{
 "cells": [
  {
   "cell_type": "code",
   "execution_count": 12,
   "metadata": {},
   "outputs": [],
   "source": [
    "%matplotlib inline\n",
    "from matplotlib import pyplot as plt\n",
    "import pandas as pd\n",
    "import numpy as np\n",
    "import math\n",
    "from numpy import array\n",
    "import os\n",
    "import time "
   ]
  },
  {
   "cell_type": "code",
   "execution_count": 13,
   "metadata": {},
   "outputs": [],
   "source": [
    "class Control():        \n",
    "    def __init__(self,original):        \n",
    "        self.orisg = original          # Original signal\n",
    "        self.consg = np.zeros(original.shape)  # Signal after control\n",
    "\n",
    "    def datacontrol(self,kpidp): \n",
    "        slbeimf = self.orisg[0:12500].copy()\n",
    "        nor_value = []\n",
    "        while len(nor_value) <len(self.orisg):\n",
    "            nor_value = np.concatenate([nor_value, slbeimf])\n",
    "            \n",
    "        cimf = []\n",
    "        for batch in range(len(self.orisg)):\n",
    "            erro = nor_value[batch]-self.orisg[batch]\n",
    "            a = (kpidp[0]*erro + kpidp[1]*erro+kpidp[2]*erro)\n",
    "            erro1 = nor_value[batch]-a\n",
    "            b = (kpidp[0]*erro1 + kpidp[1]*(erro+erro1)+kpidp[2]*(erro1-erro))\n",
    "            cimf.append(b)\n",
    "\n",
    "        eudis =  np.sqrt(np.square(nor_value - cimf))\n",
    "        return np.array(cimf),eudis      \n",
    "      \n",
    "def datasave(path,samplek,record):\n",
    "    Data = np.concatenate((samplek.reshape(-1,1),record.reshape(-1,1)),axis = 1)\n",
    "    test = pd.DataFrame(columns=['time','value'],data=Data)\n",
    "    test.to_csv(path,index = False)"
   ]
  },
  {
   "cell_type": "code",
   "execution_count": 5,
   "metadata": {},
   "outputs": [],
   "source": [
    "all_imfs = {}\n",
    "org_sig = np.zeros(87500)\n",
    "\n",
    "for i in range(1,11):\n",
    "    filepath = \"../../datasources/validation/vmd/IMF{}.CSV\".format(i)\n",
    "    df = pd.read_csv(filepath)\n",
    "\n",
    "    sample = df['time'].values.copy()\n",
    "    all_imfs[i] = df['value'].values.copy()\n",
    "    org_sig = org_sig + np.array(all_imfs[i])"
   ]
  },
  {
   "cell_type": "code",
   "execution_count": 6,
   "metadata": {},
   "outputs": [],
   "source": [
    "SOA    =  [0.37506667 , 0.29499 , -0.16124236]\n",
    "NN_old =  [-0.2941,  0.4289,  0.2662]\n",
    "PSO    =  [0.11257014, 0.20711179, 0.00347529] \n",
    "NN_new =  [ 0.5916,  0.3169, -0.2104]\n",
    "\n",
    "cmode = {0:SOA,1:NN_old,2:PSO,3:NN_new}\n",
    "cpath = {0:'soa',1:'nn_old',2:'pso',3:'nn_new'}\n",
    "consg = {}\n",
    "edu = {}"
   ]
  },
  {
   "cell_type": "code",
   "execution_count": 11,
   "metadata": {},
   "outputs": [],
   "source": [
    "for i in range(4):\n",
    "    onvmd = Control(org_sig)\n",
    "    consg[i],edu[i]= onvmd.datacontrol(cmode[i])\n",
    "\n",
    "# cata1 = '../result/nonvmd'\n",
    "# isExists=os.path.exists(cata1)\n",
    "# if not isExists:\n",
    "#     os.makedirs(cata1) \n",
    "for i in range(4):        \n",
    "    path1 = '../Data/{}.csv'.format(cpath[i])\n",
    "    \n",
    "    datasave(path1,sample,consg[i])\n",
    "    \n",
    "    path2 = '../Euclidean distance/Euclidean_{}.csv'.format(cpath[i])\n",
    "    datasave(path2,sample,edu[i])\n",
    "    \n",
    "path3 = '../../datasources/validation/original.csv'\n",
    "datasave(path3,sample,org_sig)"
   ]
  },
  {
   "cell_type": "code",
   "execution_count": 10,
   "metadata": {},
   "outputs": [],
   "source": [
    "class lagtest():        \n",
    "    def __init__(self,original):        \n",
    "        self.orisg = original          # Original signal\n",
    "        self.consg = np.zeros(original.shape)  # Signal after control\n",
    "\n",
    "    def datacontrol(self,kpidp): \n",
    "        nor_value = self.orisg[0:125].copy()        \n",
    "        cimf = []\n",
    "        for batch in range(len(self.orisg)):\n",
    "            erro = nor_value[batch]-self.orisg[batch]\n",
    "            a = (kpidp[0]*erro + kpidp[1]*erro+kpidp[2]*erro)\n",
    "            erro1 = nor_value[batch]-a\n",
    "            b = (kpidp[0]*erro1 + kpidp[1]*(erro+erro1)+kpidp[2]*(erro1-erro))\n",
    "            cimf.append(b)\n",
    "\n",
    "        eudis =  np.sqrt(np.square(nor_value - cimf))\n",
    "        return np.array(cimf),eudis      "
   ]
  },
  {
   "cell_type": "code",
   "execution_count": 31,
   "metadata": {},
   "outputs": [],
   "source": [
    "consg1 = {}\n",
    "lag = {}\n",
    "\n",
    "for i in range(4):\n",
    "    start1 = time.time() \n",
    "    ccl = lagtest(org_sig[25000:25125])\n",
    "    consg1[i]= ccl.datacontrol(cmode[i])\n",
    "    end1 = time.time()\n",
    "    lag[i] =  end1 - start1 + 0.01"
   ]
  },
  {
   "cell_type": "code",
   "execution_count": 32,
   "metadata": {},
   "outputs": [
    {
     "data": {
      "text/plain": [
       "{0: 0.01, 1: 0.01099945068359375, 2: 0.01, 3: 0.01}"
      ]
     },
     "execution_count": 32,
     "metadata": {},
     "output_type": "execute_result"
    }
   ],
   "source": [
    "lag"
   ]
  }
 ],
 "metadata": {
  "kernelspec": {
   "display_name": "Python 3",
   "language": "python",
   "name": "python3"
  },
  "language_info": {
   "codemirror_mode": {
    "name": "ipython",
    "version": 3
   },
   "file_extension": ".py",
   "mimetype": "text/x-python",
   "name": "python",
   "nbconvert_exporter": "python",
   "pygments_lexer": "ipython3",
   "version": "3.7.6"
  }
 },
 "nbformat": 4,
 "nbformat_minor": 5
}
