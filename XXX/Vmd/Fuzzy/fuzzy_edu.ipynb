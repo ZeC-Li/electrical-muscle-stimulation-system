{
 "cells": [
  {
   "cell_type": "code",
   "execution_count": 7,
   "metadata": {},
   "outputs": [],
   "source": [
    "%matplotlib inline\n",
    "from matplotlib import pyplot as plt\n",
    "import pandas as pd\n",
    "import numpy as np\n",
    "import math\n",
    "from numpy import array\n",
    "import os\n",
    "import time "
   ]
  },
  {
   "cell_type": "code",
   "execution_count": 8,
   "metadata": {},
   "outputs": [],
   "source": [
    "def datasave(path,samplek,record):\n",
    "    Data = np.concatenate((samplek.reshape(-1,1),record.reshape(-1,1)),axis = 1)\n",
    "    test = pd.DataFrame(columns=['time','value'],data=Data)\n",
    "    test.to_csv(path,index = False)"
   ]
  },
  {
   "cell_type": "code",
   "execution_count": 9,
   "metadata": {},
   "outputs": [],
   "source": [
    "all_imfs = {}\n",
    "org_sig = np.zeros(87500)\n",
    "\n",
    "for i in range(1,11):\n",
    "    filepath = \"../../datasources/validation/vmd/IMF{}.CSV\".format(i)\n",
    "    df = pd.read_csv(filepath)\n",
    "    sample = df['time'].values.copy()\n",
    "    all_imfs[i] = df['value'].values.copy()\n",
    "    org_sig = org_sig + np.array(all_imfs[i])"
   ]
  },
  {
   "cell_type": "code",
   "execution_count": 10,
   "metadata": {},
   "outputs": [],
   "source": [
    "slorg = org_sig[0:12500].copy()\n",
    "nor_value = []\n",
    "while len(nor_value) <len(org_sig):\n",
    "    nor_value = np.concatenate([nor_value, slorg])\n",
    "    \n",
    "filepath = \"../Data/fuzzy.csv\"\n",
    "df2 = pd.read_csv(filepath)\n",
    "fuzzyvalue = df2['value'].values.copy()\n",
    "    \n",
    "    \n",
    "eudis =  np.sqrt(np.square(nor_value - fuzzyvalue))"
   ]
  },
  {
   "cell_type": "code",
   "execution_count": 11,
   "metadata": {},
   "outputs": [],
   "source": [
    "path2 = \"../Euclidean distance/Euclidean_fuzzy.csv\""
   ]
  },
  {
   "cell_type": "code",
   "execution_count": 12,
   "metadata": {},
   "outputs": [],
   "source": [
    "datasave(path2,sample,eudis)"
   ]
  },
  {
   "cell_type": "code",
   "execution_count": null,
   "metadata": {},
   "outputs": [],
   "source": []
  }
 ],
 "metadata": {
  "kernelspec": {
   "display_name": "li_liao_yi",
   "language": "python",
   "name": "li_liao_yi"
  },
  "language_info": {
   "codemirror_mode": {
    "name": "ipython",
    "version": 3
   },
   "file_extension": ".py",
   "mimetype": "text/x-python",
   "name": "python",
   "nbconvert_exporter": "python",
   "pygments_lexer": "ipython3",
   "version": "3.7.6"
  }
 },
 "nbformat": 4,
 "nbformat_minor": 4
}
