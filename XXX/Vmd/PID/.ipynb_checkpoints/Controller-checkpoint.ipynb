{
 "cells": [
  {
   "cell_type": "code",
   "execution_count": 1,
   "metadata": {},
   "outputs": [],
   "source": [
    "%matplotlib inline\n",
    "from matplotlib import pyplot as plt\n",
    "import pandas as pd\n",
    "import numpy as np\n",
    "import math\n",
    "from numpy import array\n",
    "import os\n",
    "import time "
   ]
  },
  {
   "cell_type": "code",
   "execution_count": 2,
   "metadata": {},
   "outputs": [],
   "source": [
    "def cal_weight(x):\n",
    "    x = x.apply(lambda x: ((x - np.min(x)) / (np.max(x) - np.min(x))))\n",
    "    rows = x.index.size   \n",
    "    cols = x.columns.size   \n",
    "    k = 1.0 / math.log(rows)\n",
    "    lnf = [[None] * cols for i in range(rows)]\n",
    "    x = array(x)\n",
    "    lnf = [[None] * cols for i in range(rows)]\n",
    "    lnf = array(lnf)\n",
    "    for i in range(0, rows):\n",
    "        for j in range(0, cols):\n",
    "            if x[i][j] == 0:\n",
    "                lnfij = 0.0\n",
    "            else:\n",
    "                p = x[i][j] / x.sum(axis=0)[j]\n",
    "                lnfij = math.log(p) * p * (-k)\n",
    "            lnf[i][j] = lnfij\n",
    "    lnf = pd.DataFrame(lnf)\n",
    "    E = lnf\n",
    "    d = 1 - E.sum(axis=0)\n",
    "    w = [[None] * 1 for i in range(cols)]\n",
    "    for j in range(0, cols):\n",
    "        wj = d[j] / sum(d)\n",
    "        w[j] = wj\n",
    "\n",
    "    w = pd.DataFrame(w)\n",
    "    return w\n",
    "\n",
    "\n",
    "def datasave(path,samplek,record):\n",
    "    Data = np.concatenate((samplek.reshape(-1,1),record.reshape(-1,1)),axis = 1)\n",
    "    test = pd.DataFrame(columns=['time','value'],data=Data)\n",
    "    test.to_csv(path,index = False)"
   ]
  },
  {
   "cell_type": "code",
   "execution_count": 3,
   "metadata": {},
   "outputs": [],
   "source": [
    "class Control():\n",
    "    def __init__(self,alimfs,original,key):        \n",
    "        self.orisg = original  # Original signal\n",
    "        self.imfs = alimfs    # All IMF components\n",
    "\n",
    "        self.consg = np.zeros(87500)  # Signal after control\n",
    "        self.imfb = {}    # IMF to be controlled\n",
    "        self.imfc = {}    # IMF after control\n",
    "        self.key = key\n",
    "        \n",
    "    def keycontrol(self,mode):\n",
    "        \n",
    "        for i in range(len(self.key)):\n",
    "            self.imfb[i] = self.imfs[self.key[i]]\n",
    "            self.imfc[i] = self.dataprocess(self.imfb[i],mode)\n",
    "            self.consg = self.consg + np.array(self.imfc[i])\n",
    "                  \n",
    "        amp = max(self.orisg[0:12500]) / max(self.consg[12500:87500])\n",
    "        self.consg = self.consg * amp\n",
    "                \n",
    "        slorg = self.orisg[0:12500].copy()\n",
    "        nor_value = []\n",
    "        while len(nor_value) <len(self.consg):\n",
    "            nor_value = np.concatenate([nor_value, slorg])\n",
    "        \n",
    "        eudis =  np.sqrt(np.square(nor_value - self.consg))\n",
    "        return self.consg,eudis\n",
    "    \n",
    "    def dataprocess(self,Imf,kpidp):\n",
    "        # Generate normal samples\n",
    "        slbeimf = Imf[0:12500].copy()\n",
    "        nor_value = []\n",
    "        while len(nor_value) <len(Imf):\n",
    "            nor_value = np.concatenate([nor_value, slbeimf])\n",
    "\n",
    "        cimf = []\n",
    "        for batch in range(len(Imf)):\n",
    "            erro = nor_value[batch]-Imf[batch]\n",
    "            a = (kpidp[0]*erro + kpidp[1]*erro+kpidp[2]*erro)\n",
    "            erro1 = nor_value[batch]-a\n",
    "            b = (kpidp[0]*erro1 + kpidp[1]*(erro+erro1)+kpidp[2]*(erro1-erro))\n",
    "            cimf.append(b)\n",
    "        \n",
    "        return np.array(cimf)  \n",
    "    \n",
    "    \n",
    "    \n",
    "class lagtest():\n",
    "    def __init__(self,alimfs,original,key):        \n",
    "        self.orisg = original[25000:25125]  # Original signal\n",
    "        self.imfs = alimfs    # All IMF components\n",
    "        self.consg = np.zeros(self.orisg.shape)  # Signal after control\n",
    "        self.imfb = {}    # IMF to be controlled\n",
    "        self.imfc = {}    # IMF after control\n",
    "        self.key = key\n",
    "        \n",
    "    def keycontrol(self,mode):\n",
    "        for i in range(len(self.key)):\n",
    "            self.imfb[i] = self.imfs[self.key[i]][25000:25125]\n",
    "            self.imfc[i] = self.dataprocess(self.imfb[i],mode)\n",
    "            self.consg = self.consg + np.array(self.imfc[i])\n",
    "                  \n",
    "        amp = max(self.orisg[0:125]) / max(self.consg[0:125])\n",
    "        self.consg = self.consg * amp\n",
    "    \n",
    "    def dataprocess(self,Imf,kpidp):\n",
    "        # Generate normal samples\n",
    "        nor_value = Imf[0:125].copy()\n",
    "\n",
    "        cimf = []\n",
    "        for batch in range(len(Imf)):\n",
    "            erro = nor_value[batch]-Imf[batch]\n",
    "            a = (kpidp[0]*erro + kpidp[1]*erro+kpidp[2]*erro)\n",
    "            erro1 = nor_value[batch]-a\n",
    "            b = (kpidp[0]*erro1 + kpidp[1]*(erro+erro1)+kpidp[2]*(erro1-erro))\n",
    "            cimf.append(b)\n",
    "        \n",
    "        return np.array(cimf)  "
   ]
  },
  {
   "cell_type": "code",
   "execution_count": 4,
   "metadata": {},
   "outputs": [],
   "source": [
    "cal_df = pd.DataFrame()\n",
    "all_imfs = {}\n",
    "org_sig = np.zeros(87500)\n",
    "\n",
    "for i in range(1,11):\n",
    "    filepath = \"../../datasources/validation/vmd/IMF{}.CSV\".format(i)\n",
    "    df = pd.read_csv(filepath)\n",
    "\n",
    "    sample = df['time'].values.copy()\n",
    "    all_imfs[i] = df['value'].values.copy()\n",
    "    org_sig = org_sig + np.array(all_imfs[i])\n",
    "    cal_df[\"imf{}\".format(i)] = all_imfs[i]"
   ]
  },
  {
   "cell_type": "code",
   "execution_count": 103,
   "metadata": {},
   "outputs": [],
   "source": [
    "# cal_weight(cal_df)"
   ]
  },
  {
   "cell_type": "code",
   "execution_count": 5,
   "metadata": {},
   "outputs": [],
   "source": [
    "key = [2,3,5,8]  #take IMF 2, 3, 5, 8 \n",
    "\n",
    "SOA = [ 0.13556766,0.48499588,-0.02386167] \n",
    "NN_old = [-0.1965,  0.3012,    0.4451]\n",
    "PSO = [0.25817888,  0.68793405,0.30271897] \n",
    "NN_new = [-0.8178439,  0.9414374,  0.6901785]\n",
    "\n",
    "cmode = {0:SOA,1:NN_old,2:PSO,3:NN_new}\n",
    "cpath = {0:'soa',1:'nn_old',2:'pso',3:'nn_new'}\n",
    "consg = {}\n",
    "edu = {}"
   ]
  },
  {
   "cell_type": "code",
   "execution_count": 6,
   "metadata": {},
   "outputs": [],
   "source": [
    "for i in range(4):\n",
    "    vmdc = Control(all_imfs,org_sig,key)\n",
    "    consg[i],edu[i] = vmdc.keycontrol(cmode[i])\n",
    "    \n",
    "# cata1 = '../result/vmd'\n",
    "# isExists=os.path.exists(cata1)\n",
    "# if not isExists:\n",
    "#     os.makedirs(cata1) \n",
    "    \n",
    "for i in range(4):        \n",
    "    path1 = '../Data/{}.csv'.format(cpath[i])\n",
    "    datasave(path1,sample,consg[i])\n",
    "    \n",
    "    path2 = '../Euclidean distance/Euclidean_{}.csv'.format(cpath[i])\n",
    "    datasave(path2,sample,edu[i])"
   ]
  },
  {
   "cell_type": "code",
   "execution_count": 106,
   "metadata": {},
   "outputs": [],
   "source": [
    "lagtime = {}\n",
    "for i in range(4):\n",
    "    start = time.time()\n",
    "    lagc = lagtest(all_imfs,org_sig,key)\n",
    "    lagc.keycontrol(cmode[0])\n",
    "    end = time.time()\n",
    "    lagtime[i] = end - start + 0.01"
   ]
  },
  {
   "cell_type": "code",
   "execution_count": 107,
   "metadata": {},
   "outputs": [
    {
     "data": {
      "text/plain": [
       "{0: 0.011969575881958008,\n",
       " 1: 0.011995325088500977,\n",
       " 2: 0.0110528564453125,\n",
       " 3: 0.011939058303833008}"
      ]
     },
     "execution_count": 107,
     "metadata": {},
     "output_type": "execute_result"
    }
   ],
   "source": [
    "lagtime"
   ]
  },
  {
   "cell_type": "code",
   "execution_count": null,
   "metadata": {},
   "outputs": [],
   "source": []
  }
 ],
 "metadata": {
  "kernelspec": {
   "display_name": "Python 3",
   "language": "python",
   "name": "python3"
  },
  "language_info": {
   "codemirror_mode": {
    "name": "ipython",
    "version": 3
   },
   "file_extension": ".py",
   "mimetype": "text/x-python",
   "name": "python",
   "nbconvert_exporter": "python",
   "pygments_lexer": "ipython3",
   "version": "3.7.6"
  }
 },
 "nbformat": 4,
 "nbformat_minor": 5
}
