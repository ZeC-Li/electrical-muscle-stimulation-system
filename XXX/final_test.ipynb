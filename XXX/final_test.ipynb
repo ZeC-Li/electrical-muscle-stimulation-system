{
 "cells": [
  {
   "cell_type": "code",
   "execution_count": null,
   "id": "277aa627",
   "metadata": {},
   "outputs": [],
   "source": []
  }
 ],
 "metadata": {
  "kernelspec": {
   "display_name": "Python [conda env:.conda-pytorch_py37] *",
   "language": "python",
   "name": "conda-env-.conda-pytorch_py37-py"
  },
  "language_info": {
   "codemirror_mode": {
    "name": "ipython",
    "version": 3
   },
   "file_extension": ".py",
   "mimetype": "text/x-python",
   "name": "python",
   "nbconvert_exporter": "python",
   "pygments_lexer": "ipython3",
   "version": "3.7.10"
  }
 },
 "nbformat": 4,
 "nbformat_minor": 5
}
